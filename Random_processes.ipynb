{
 "cells": [
  {
   "cell_type": "code",
   "execution_count": 34,
   "id": "7cac761f",
   "metadata": {},
   "outputs": [],
   "source": [
    "import numpy as np\n",
    "from scipy.integrate import ode\n",
    "from scipy.stats import norm\n",
    "from matplotlib import pyplot as plt\n",
    "import scipy.optimize\n"
   ]
  },
  {
   "cell_type": "code",
   "execution_count": 35,
   "id": "aa37e501",
   "metadata": {},
   "outputs": [
    {
     "name": "stdout",
     "output_type": "stream",
     "text": [
      "[0.5488135  0.71518937 0.60276338 0.54488318 0.4236548  0.64589411\n",
      " 0.43758721 0.891773   0.96366276 0.38344152] [0.79172504 0.52889492 0.56804456 0.92559664 0.07103606 0.0871293\n",
      " 0.0202184  0.83261985 0.77815675 0.87001215]\n"
     ]
    },
    {
     "data": {
      "image/png": "[encoded data removed]",
      "text/plain": [
       "<Figure size 640x480 with 1 Axes>"
      ]
     },
     "metadata": {},
     "output_type": "display_data"
    }
   ],
   "source": [
    "def generate_random_sample(num_points):\n",
    "    x = np.random.rand(num_points)  \n",
    "    y = np.random.rand(num_points)  \n",
    "    return x,y   \n",
    "        \n",
    "# Set a seed\n",
    "np.random.seed(0)\n",
    "\n",
    "# Set number of points to draw\n",
    "num_points = 10\n",
    "\n",
    "# Draw random points\n",
    "x, y = generate_random_sample(num_points)\n",
    "\n",
    "# Visualize\n",
    "plt.plot(x, y, \".\")\n",
    "\n",
    "\n",
    "print(x, y)"
   ]
  },
  {
   "cell_type": "code",
   "execution_count": 3,
   "id": "df9f0c11",
   "metadata": {},
   "outputs": [],
   "source": [
    "def generate_random_walk(num_steps):\n",
    "    \n",
    "    step_size = 0.5*np.ones(num_steps)\n",
    "   \n",
    "    x_r = np.random.rand(num_steps) - 0.5\n",
    "    y_r = np.random.rand(num_steps) - 0.5\n",
    "    \n",
    "    x_t = np.zeros(num_steps+1)\n",
    "    y_t = np.zeros(num_steps+1)\n",
    "        \n",
    "    for step in range(num_steps):\n",
    "        x_t[step+1] = x_t[step] + x_r[step]*step_size[step]\n",
    "        y_t[step+1] = y_t[step] + y_r[step]*step_size[step]\n",
    "\n",
    "        while x_t[step + 1] > 1 or x_t[step + 1] < 0:\n",
    "            x_t[step+1] = x_t[step] + np.random.rand()*step_size[step]\n",
    "\n",
    "        while y_t[step + 1] > 1 or y_t[step + 1] < 0:\n",
    "            y_t[step+1] = y_t[step] + np.random.rand()*step_size[step]\n",
    "\n",
    "\n",
    "        \n",
    "    return x_t,y_t   \n",
    "      \n",
    "    \n",
    "    \n",
    "#np.random.seed(2)\n",
    "num_steps = 100   # number of steps in random walk\n",
    "\n",
    "# Generate the random walk\n",
    "x, y = generate_random_walk(num_steps)\n",
    "\n",
    "# Visualize\n",
    "plt.plot(x[0], y[0], \"o\", color = 'red')\n",
    "plt.plot(x[-1], y[-1], \"o\", color = 'green')\n",
    "\n",
    "plt.plot(x, y, \".-\", color = 'grey')"
   ]
  },
  {
   "cell_type": "code",
   "execution_count": 36,
   "id": "5d696f80",
   "metadata": {},
   "outputs": [
    {
     "name": "stdout",
     "output_type": "stream",
     "text": [
      "[[0.     1.     0.    ]\n",
      " [0.6    0.3    0.2   ]\n",
      " [0.34   0.47   0.54  ]\n",
      " [0.458  0.399  0.366 ]\n",
      " [0.4042 0.4311 0.4462]]\n"
     ]
    }
   ],
   "source": [
    "#Markovian chain\n",
    "\n",
    "t_m = np.array([[ 0.2, 0.6, 0.2], [ .6, 0.3, 0.1], [0.8, 0.2, 0]])\n",
    "# Initial state, p0\n",
    "p0 = np.array([0, 1, 0])\n",
    "\n",
    "n_steps = 5\n",
    "p_n = np.zeros((n_steps,3))\n",
    "\n",
    "p_n[0]=p0\n",
    "\n",
    "for n in range(1,n_steps):\n",
    "    p_n[n] = np.dot(t_m,p_n[n-1])\n",
    "\n",
    "print(p_n)"
   ]
  },
  {
   "cell_type": "code",
   "execution_count": 51,
   "id": "6bb8a0f3",
   "metadata": {},
   "outputs": [
    {
     "name": "stdout",
     "output_type": "stream",
     "text": [
      "0.9909479240267423 0.9870316126562043\n",
      "1405.8868885104262 [4.95473962 0.98703161]\n"
     ]
    }
   ],
   "source": [
    "#Likelihood \n",
    "def compute_likelihood_normal(theta,x):\n",
    "    p_data = norm.pdf(x, theta[0], theta[1])\n",
    "    likelihood = -np.sum(np.log(p_data)) \n",
    "    return likelihood\n",
    "\n",
    "\n",
    "def optimize_likelihood(loss_func, theta_i, args):\n",
    "    bnds = ((None, None), (0, None))\n",
    "    ftol = 10e-6\n",
    "    res = scipy.optimize.minimize(loss_func, theta_i, args=args, method = 'Nelder-Mead', bounds = bnds, tol = ftol)\n",
    "    return res.fun, res.x\n",
    "\n",
    "\n",
    "# Set random seed\n",
    "np.random.seed(0)\n",
    "\n",
    "# Generate data\n",
    "true_mean = 5\n",
    "true_standard_dev = 1\n",
    "n_samples = 1000\n",
    "x = np.random.normal(true_mean, true_standard_dev, size=(n_samples, ))\n",
    "\n",
    "method = 'Nelder-Mead'\n",
    "fun, params = optimize_likelihood(compute_likelihood_normal, (2,2), x)\n",
    "print(params[0]/true_mean , params[1]/true_standard_dev) \n",
    "print(fun, params)"
   ]
  }
 ],
 "metadata": {
  "kernelspec": {
   "display_name": "Python 3 (ipykernel)",
   "language": "python",
   "name": "python3"
  },
  "language_info": {
   "codemirror_mode": {
    "name": "ipython",
    "version": 3
   },
   "file_extension": ".py",
   "mimetype": "text/x-python",
   "name": "python",
   "nbconvert_exporter": "python",
   "pygments_lexer": "ipython3",
   "version": "3.11.4"
  }
 },
 "nbformat": 4,
 "nbformat_minor": 5
}
